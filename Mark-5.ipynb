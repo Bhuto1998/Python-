{
 "cells": [
  {
   "cell_type": "markdown",
   "metadata": {},
   "source": [
    "# Updated NBAFR Test"
   ]
  },
  {
   "cell_type": "code",
   "execution_count": 1,
   "metadata": {},
   "outputs": [],
   "source": [
    "import numpy as np\n",
    "import pandas as pd\n",
    "import seaborn as sns\n",
    "import matplotlib.pyplot as plt\n",
    "import math\n",
    "from pylab import *"
   ]
  },
  {
   "cell_type": "code",
   "execution_count": 13,
   "metadata": {},
   "outputs": [],
   "source": [
    "def f(x):\n",
    "    n=len(x)\n",
    "    if x[n-1]==0:\n",
    "        return n\n",
    "    else:\n",
    "        return 0"
   ]
  },
  {
   "cell_type": "code",
   "execution_count": 16,
   "metadata": {},
   "outputs": [
    {
     "data": {
      "text/plain": [
       "5"
      ]
     },
     "execution_count": 16,
     "metadata": {},
     "output_type": "execute_result"
    }
   ],
   "source": [
    "x = [0,3,5,1,0]\n",
    "len(x)\n",
    "f(x)"
   ]
  },
  {
   "cell_type": "code",
   "execution_count": 28,
   "metadata": {},
   "outputs": [],
   "source": [
    "def K(u):\n",
    "    s = exp(-(u**2)/2)/((2*3.14159265)**0.5)\n",
    "    s = s\n",
    "    return s\n"
   ]
  },
  {
   "cell_type": "code",
   "execution_count": 26,
   "metadata": {},
   "outputs": [
    {
     "data": {
      "text/plain": [
       "0.39894228062936166"
      ]
     },
     "execution_count": 26,
     "metadata": {},
     "output_type": "execute_result"
    }
   ],
   "source": [
    "K(0)"
   ]
  },
  {
   "cell_type": "code",
   "execution_count": 28,
   "metadata": {},
   "outputs": [],
   "source": [
    "def fk(h,x,h_n):\n",
    "    n = len(x)\n",
    "    s = 0\n",
    "    for i in range(0,n-1):\n",
    "        s= s+ K((h-x[i])/h_n)\n",
    "    s = s/(n*h_n)\n",
    "    return s\n"
   ]
  },
  {
   "cell_type": "code",
   "execution_count": 29,
   "metadata": {},
   "outputs": [],
   "source": [
    "def g(y,d):\n",
    "    p = y + (0.5*d*(y**2)) + (1*(d**2)*(y**3))\n",
    "    return p"
   ]
  },
  {
   "cell_type": "code",
   "execution_count": 32,
   "metadata": {},
   "outputs": [],
   "source": [
    "def fak(x,h_n):\n",
    "    d = log(fk(0.001,x,h_n))-log(fk(0,x,h_n))\n",
    "    d = d/0.001\n",
    "    n = len(x)\n",
    "    q = 0\n",
    "    for j in range(0,n-1):\n",
    "        q = q + K(g(x[j],d)/h_n)\n",
    "    q = q *2/(n*h_n)\n",
    "    return q"
   ]
  },
  {
   "cell_type": "code",
   "execution_count": 36,
   "metadata": {},
   "outputs": [],
   "source": [
    "def Test_updated(n,v,r,l,N):\n",
    "    m=0\n",
    "    h_n = n**(-(v+0.2))\n",
    "    for i in range(1,N):\n",
    "        x = np.random.exponential(l,n)\n",
    "        t=0\n",
    "        q=0\n",
    "        w=0\n",
    "        for j in range(0,n-1):\n",
    "            t = t+(x[j]**r)\n",
    "            q = q+exp(-(((0.001-x[j])/h_n)**2)/2)/((2*3.14159265)**0.5)\n",
    "            w =w+ exp(-(((-x[j])/h_n)**2)/2)/((2*3.14159265)**0.5)\n",
    "        t = t/n\n",
    "        y= np.mean(x)\n",
    "        g= math.gamma(r+1)\n",
    "        \n",
    "        q= q/(n*h_n)\n",
    "        w = w/(n*h_n)\n",
    "        d = log(q)-log(w)\n",
    "        d = d/0.001\n",
    "        b=0\n",
    "        for j in range(0,n-1):\n",
    "            gee=0\n",
    "            gee=x[j] + (0.5*d*(x[j]**2)) + (1*(d**2)*(x[j]**3))\n",
    "            b = b + exp(-((gee/h_n)**2)/2)/((2*3.14159265)**0.5)\n",
    "            \n",
    "        \n",
    "        \n",
    "        b = b *2/(n*h_n) \n",
    "        s = (g/((y*b)**r))- (t/(y**r))\n",
    "        \n",
    "        z = (s/r*g)*((n*h_n/(y*0.47)**0.5))\n",
    "        if z > 1.64:\n",
    "            m = m+1\n",
    "        else:\n",
    "            m=m\n",
    "    \n",
    "    return m"
   ]
  },
  {
   "cell_type": "code",
   "execution_count": 37,
   "metadata": {},
   "outputs": [
    {
     "name": "stderr",
     "output_type": "stream",
     "text": [
      "C:\\Users\\Arnab\\Anaconda3\\lib\\site-packages\\ipykernel_launcher.py:30: RuntimeWarning: divide by zero encountered in double_scalars\n",
      "C:\\Users\\Arnab\\Anaconda3\\lib\\site-packages\\ipykernel_launcher.py:30: RuntimeWarning: overflow encountered in double_scalars\n"
     ]
    },
    {
     "data": {
      "text/plain": [
       "727"
      ]
     },
     "execution_count": 37,
     "metadata": {},
     "output_type": "execute_result"
    }
   ],
   "source": [
    "Test_updated(70,0.4,1.5,5,1000)"
   ]
  },
  {
   "cell_type": "code",
   "execution_count": 14,
   "metadata": {},
   "outputs": [],
   "source": [
    "test = np.random.exponential(10,10000)"
   ]
  },
  {
   "cell_type": "code",
   "execution_count": 16,
   "metadata": {},
   "outputs": [
    {
     "data": {
      "text/plain": [
       "9.2536686111426"
      ]
     },
     "execution_count": 16,
     "metadata": {},
     "output_type": "execute_result"
    }
   ],
   "source": [
    "test[9999]"
   ]
  },
  {
   "cell_type": "code",
   "execution_count": 18,
   "metadata": {},
   "outputs": [
    {
     "data": {
      "text/plain": [
       "9.982870590736834"
      ]
     },
     "execution_count": 18,
     "metadata": {},
     "output_type": "execute_result"
    }
   ],
   "source": [
    "np.mean(test)"
   ]
  },
  {
   "cell_type": "code",
   "execution_count": 21,
   "metadata": {},
   "outputs": [
    {
     "data": {
      "text/plain": [
       "10000"
      ]
     },
     "execution_count": 21,
     "metadata": {},
     "output_type": "execute_result"
    }
   ],
   "source": [
    "len(test)"
   ]
  },
  {
   "cell_type": "code",
   "execution_count": 24,
   "metadata": {},
   "outputs": [
    {
     "data": {
      "text/plain": [
       "1.0"
      ]
     },
     "execution_count": 24,
     "metadata": {},
     "output_type": "execute_result"
    }
   ],
   "source": [
    "log(exp(1))"
   ]
  }
 ],
 "metadata": {
  "kernelspec": {
   "display_name": "Python 3",
   "language": "python",
   "name": "python3"
  },
  "language_info": {
   "codemirror_mode": {
    "name": "ipython",
    "version": 3
   },
   "file_extension": ".py",
   "mimetype": "text/x-python",
   "name": "python",
   "nbconvert_exporter": "python",
   "pygments_lexer": "ipython3",
   "version": "3.7.3"
  }
 },
 "nbformat": 4,
 "nbformat_minor": 2
}
