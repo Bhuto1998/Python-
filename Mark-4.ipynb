{
 "cells": [
  {
   "cell_type": "markdown",
   "metadata": {},
   "source": [
    "# Summer Project 2019"
   ]
  },
  {
   "cell_type": "markdown",
   "metadata": {},
   "source": [
    "This is basically a simulation study. I will break it up in small scale and large scale simulations.\n",
    "\n",
    "\n",
    "### Small Scale Simulation (Assymptotic Test from the Proposed Paper) "
   ]
  },
  {
   "cell_type": "code",
   "execution_count": 1,
   "metadata": {},
   "outputs": [],
   "source": [
    "import numpy as np\n",
    "import pandas as pd\n",
    "import seaborn as sns\n",
    "import matplotlib.pyplot as plt\n",
    "import math\n",
    "from pylab import *"
   ]
  },
  {
   "cell_type": "markdown",
   "metadata": {},
   "source": [
    "##### Trial Box"
   ]
  },
  {
   "cell_type": "code",
   "execution_count": 20,
   "metadata": {},
   "outputs": [
    {
     "data": {
      "text/plain": [
       "array([ 62.52484535,  51.92400822,  77.58478656,  47.8536296 ,\n",
       "        48.71571835,  30.44067471,  56.84266538,  81.40586886,\n",
       "       105.23374403,  56.85793171])"
      ]
     },
     "execution_count": 20,
     "metadata": {},
     "output_type": "execute_result"
    }
   ],
   "source": [
    "np.random.gamma(7,8,10)"
   ]
  },
  {
   "cell_type": "code",
   "execution_count": 4,
   "metadata": {},
   "outputs": [
    {
     "data": {
      "text/plain": [
       "50625"
      ]
     },
     "execution_count": 4,
     "metadata": {},
     "output_type": "execute_result"
    }
   ],
   "source": [
    "15**4"
   ]
  },
  {
   "cell_type": "code",
   "execution_count": 5,
   "metadata": {},
   "outputs": [
    {
     "data": {
      "text/plain": [
       "32.578096050331354"
      ]
     },
     "execution_count": 5,
     "metadata": {},
     "output_type": "execute_result"
    }
   ],
   "source": [
    "math.gamma(5.2)"
   ]
  },
  {
   "cell_type": "code",
   "execution_count": 3,
   "metadata": {},
   "outputs": [],
   "source": [
    "def Test(r,n,l,k):\n",
    "    m=0\n",
    "    for j in range(1,k):\n",
    "        x = np.random.exponential(l,n)\n",
    "        z=0\n",
    "        q=0\n",
    "        for i in range(1,n):\n",
    "            z=z+ exp(-0.5*((x[i]*(n**0.30))**2))\n",
    "            q=q+(x[i]**r)\n",
    "        z=z/((2*3.14*n)**0.5)\n",
    "        q=q/n\n",
    "        y= np.mean(x)\n",
    "        g= math.gamma(r+1)\n",
    "        s = (g/((y*z)**r))- (q/(y**r))\n",
    "        zeta = (s/r*g)*(((2/y)*((n*3.14)**0.5))**0.5)\n",
    "        if zeta>1.64:\n",
    "            m=m+1\n",
    "        else:\n",
    "            m=m\n",
    "    m=(m/k)*100\n",
    "    return(m)\n",
    "    "
   ]
  },
  {
   "cell_type": "code",
   "execution_count": 15,
   "metadata": {},
   "outputs": [
    {
     "data": {
      "text/plain": [
       "19.8"
      ]
     },
     "execution_count": 15,
     "metadata": {},
     "output_type": "execute_result"
    }
   ],
   "source": [
    "Test(3,200,9,1000)"
   ]
  },
  {
   "cell_type": "code",
   "execution_count": 4,
   "metadata": {},
   "outputs": [],
   "source": [
    "def Test2(r,a,b,l,k):\n",
    "    m = 0\n",
    "    for j in range(1,k):\n",
    "        x = np.random.exponential(l,a)\n",
    "        z=0\n",
    "        q=0\n",
    "        for i in range(1,a):\n",
    "            z=z+ exp(-0.5*((x[i]*(a**0.30))**2))\n",
    "            q=q+(x[i]**r)\n",
    "        z=z/((2*3.14*a)**0.5)\n",
    "        q=q/a\n",
    "        mean_1= np.mean(x)\n",
    "        g= math.gamma(r+1)\n",
    "        s_1 = (g/((mean_1*z)**r))- (q/(mean_1**r))\n",
    "        y = np.random.exponential(l,b)\n",
    "        z = 0\n",
    "        q = 0\n",
    "        for i in range(1,b):\n",
    "            z=z+ exp(-0.5*((y[i]*(b**0.30))**2))\n",
    "            q=q+(y[i]**r)\n",
    "        z=z/((2*3.14*b)**0.5)\n",
    "        q=q/b\n",
    "        mean_2= np.mean(y)\n",
    "        g= math.gamma(r+1)\n",
    "        s_2 = (g/((mean_2*z)**r))- (q/(mean_2**r))\n",
    "        \n",
    "        c= ((a/b)**(1.3/2))\n",
    "        T = c*(s_1/s_2)\n",
    "        if(T>6.314):\n",
    "            m=m+1\n",
    "        else:\n",
    "            m=m\n",
    "    m=(m/k)*100\n",
    "    return(m)\n",
    "    "
   ]
  },
  {
   "cell_type": "code",
   "execution_count": 5,
   "metadata": {},
   "outputs": [
    {
     "data": {
      "text/plain": [
       "10.5"
      ]
     },
     "execution_count": 5,
     "metadata": {},
     "output_type": "execute_result"
    }
   ],
   "source": [
    "Test2(4,150,50,9,1000)"
   ]
  },
  {
   "cell_type": "code",
   "execution_count": 7,
   "metadata": {},
   "outputs": [],
   "source": [
    "def Kernelf(n,d,l):\n",
    "    x = np.random.exponential(n,l)\n",
    "    z=0\n",
    "    for i in range(1,n):\n",
    "        z=z+ exp((-x[i]*(n**(d+0.4)))**2)\n",
    "    z = z/(((2*3.14)**0.5)*(n**(0.8-d)))\n",
    "    q = 0\n",
    "    for i in range(1,n):\n",
    "        q=q+ exp((-(0.005-x[i])*(n**(d+0.4)))**2)\n",
    "    q = q/(((2*3.14)**0.5)*(n**(0.8-d)))\n",
    "    p = (log(q) - log(z))/0.005    "
   ]
  },
  {
   "cell_type": "code",
   "execution_count": 8,
   "metadata": {},
   "outputs": [
    {
     "ename": "IndexError",
     "evalue": "index 7 is out of bounds for axis 0 with size 7",
     "output_type": "error",
     "traceback": [
      "\u001b[1;31m---------------------------------------------------------------------------\u001b[0m",
      "\u001b[1;31mIndexError\u001b[0m                                Traceback (most recent call last)",
      "\u001b[1;32m<ipython-input-8-8c07a95495c2>\u001b[0m in \u001b[0;36m<module>\u001b[1;34m\u001b[0m\n\u001b[1;32m----> 1\u001b[1;33m \u001b[0mKernelf\u001b[0m\u001b[1;33m(\u001b[0m\u001b[1;36m100\u001b[0m\u001b[1;33m,\u001b[0m\u001b[1;36m0.5\u001b[0m\u001b[1;33m,\u001b[0m\u001b[1;36m7\u001b[0m\u001b[1;33m)\u001b[0m\u001b[1;33m\u001b[0m\u001b[1;33m\u001b[0m\u001b[0m\n\u001b[0m",
      "\u001b[1;32m<ipython-input-7-dfbcc3fe53c6>\u001b[0m in \u001b[0;36mKernelf\u001b[1;34m(n, d, l)\u001b[0m\n\u001b[0;32m      3\u001b[0m     \u001b[0mz\u001b[0m\u001b[1;33m=\u001b[0m\u001b[1;36m0\u001b[0m\u001b[1;33m\u001b[0m\u001b[1;33m\u001b[0m\u001b[0m\n\u001b[0;32m      4\u001b[0m     \u001b[1;32mfor\u001b[0m \u001b[0mi\u001b[0m \u001b[1;32min\u001b[0m \u001b[0mrange\u001b[0m\u001b[1;33m(\u001b[0m\u001b[1;36m1\u001b[0m\u001b[1;33m,\u001b[0m\u001b[0mn\u001b[0m\u001b[1;33m)\u001b[0m\u001b[1;33m:\u001b[0m\u001b[1;33m\u001b[0m\u001b[1;33m\u001b[0m\u001b[0m\n\u001b[1;32m----> 5\u001b[1;33m         \u001b[0mz\u001b[0m\u001b[1;33m=\u001b[0m\u001b[0mz\u001b[0m\u001b[1;33m+\u001b[0m \u001b[0mexp\u001b[0m\u001b[1;33m(\u001b[0m\u001b[1;33m(\u001b[0m\u001b[1;33m-\u001b[0m\u001b[0mx\u001b[0m\u001b[1;33m[\u001b[0m\u001b[0mi\u001b[0m\u001b[1;33m]\u001b[0m\u001b[1;33m*\u001b[0m\u001b[1;33m(\u001b[0m\u001b[0mn\u001b[0m\u001b[1;33m**\u001b[0m\u001b[1;33m(\u001b[0m\u001b[0md\u001b[0m\u001b[1;33m+\u001b[0m\u001b[1;36m0.4\u001b[0m\u001b[1;33m)\u001b[0m\u001b[1;33m)\u001b[0m\u001b[1;33m)\u001b[0m\u001b[1;33m**\u001b[0m\u001b[1;36m2\u001b[0m\u001b[1;33m)\u001b[0m\u001b[1;33m\u001b[0m\u001b[1;33m\u001b[0m\u001b[0m\n\u001b[0m\u001b[0;32m      6\u001b[0m     \u001b[0mz\u001b[0m \u001b[1;33m=\u001b[0m \u001b[0mz\u001b[0m\u001b[1;33m/\u001b[0m\u001b[1;33m(\u001b[0m\u001b[1;33m(\u001b[0m\u001b[1;33m(\u001b[0m\u001b[1;36m2\u001b[0m\u001b[1;33m*\u001b[0m\u001b[1;36m3.14\u001b[0m\u001b[1;33m)\u001b[0m\u001b[1;33m**\u001b[0m\u001b[1;36m0.5\u001b[0m\u001b[1;33m)\u001b[0m\u001b[1;33m*\u001b[0m\u001b[1;33m(\u001b[0m\u001b[0mn\u001b[0m\u001b[1;33m**\u001b[0m\u001b[1;33m(\u001b[0m\u001b[1;36m0.8\u001b[0m\u001b[1;33m-\u001b[0m\u001b[0md\u001b[0m\u001b[1;33m)\u001b[0m\u001b[1;33m)\u001b[0m\u001b[1;33m)\u001b[0m\u001b[1;33m\u001b[0m\u001b[1;33m\u001b[0m\u001b[0m\n\u001b[0;32m      7\u001b[0m     \u001b[0mq\u001b[0m \u001b[1;33m=\u001b[0m \u001b[1;36m0\u001b[0m\u001b[1;33m\u001b[0m\u001b[1;33m\u001b[0m\u001b[0m\n",
      "\u001b[1;31mIndexError\u001b[0m: index 7 is out of bounds for axis 0 with size 7"
     ]
    }
   ],
   "source": [
    "Kernelf(100,0.5,7)"
   ]
  },
  {
   "cell_type": "markdown",
   "metadata": {},
   "source": [
    "## Comparison Study:\n",
    "\n",
    "### Parameter = 7, Number of data point variable , h_n = n^-.3 , r =3\n"
   ]
  },
  {
   "cell_type": "code",
   "execution_count": 48,
   "metadata": {},
   "outputs": [
    {
     "data": {
      "text/plain": [
       "900"
      ]
     },
     "execution_count": 48,
     "metadata": {},
     "output_type": "execute_result"
    }
   ],
   "source": [
    "seq = np.array(range(31))\n",
    "seq_a = 20*seq\n",
    "seq_b = 10*seq\n",
    "seq_main = 30*seq\n",
    "\n",
    "seq_a[30]\n",
    "seq_b[30]\n",
    "seq_main[30]"
   ]
  },
  {
   "cell_type": "code",
   "execution_count": 49,
   "metadata": {},
   "outputs": [
    {
     "data": {
      "text/plain": [
       "0.0"
      ]
     },
     "execution_count": 49,
     "metadata": {},
     "output_type": "execute_result"
    }
   ],
   "source": [
    "test_1_results = np.zeros(30)\n",
    "test_2_results = np.zeros(30)\n",
    "test_1_results[29]"
   ]
  },
  {
   "cell_type": "code",
   "execution_count": 52,
   "metadata": {},
   "outputs": [
    {
     "data": {
      "text/plain": [
       "array([63. , 49.9, 39.6, 33.6, 26.7, 19.3, 15.8, 14.1, 11. , 11.3,  7.3,\n",
       "        6.5,  4.8,  4.7,  3.5,  2.9,  2.7,  2. ,  1.9,  1.7,  0.9,  1.1,\n",
       "        0.7,  0.9,  0.4,  0.5,  0.2,  0.5,  0.3,  0. ])"
      ]
     },
     "execution_count": 52,
     "metadata": {},
     "output_type": "execute_result"
    }
   ],
   "source": [
    "for i in range(1,30):\n",
    "    test_1_results[i-1] = Test(3,seq_main[i],7,1000)\n",
    "    test_2_results[i-1] = Test2(3,seq_a[i],seq_b[i],7,1000)\n",
    "test_1_results"
   ]
  },
  {
   "cell_type": "code",
   "execution_count": 54,
   "metadata": {},
   "outputs": [
    {
     "data": {
      "text/plain": [
       "array([18. , 13. ,  8.8,  9.3,  7.8,  6.5,  6.8,  6. ,  5.7,  8.1,  5.7,\n",
       "        4.4,  6.9,  7.4,  6.6,  6.6,  4.3,  7. ,  6.5,  5.4,  5.7,  6.2,\n",
       "        6.8,  6. ,  5.6,  5.6,  4. ,  5.1,  4.5,  0. ])"
      ]
     },
     "execution_count": 54,
     "metadata": {},
     "output_type": "execute_result"
    }
   ],
   "source": [
    "test_2_results"
   ]
  },
  {
   "cell_type": "code",
   "execution_count": 57,
   "metadata": {},
   "outputs": [
    {
     "data": {
      "text/plain": [
       "array([ 30,  60,  90, 120, 150, 180, 210, 240, 270, 300, 330, 360, 390,\n",
       "       420, 450, 480, 510, 540, 570, 600, 630, 660, 690, 720, 750, 780,\n",
       "       810, 840, 870, 900])"
      ]
     },
     "execution_count": 57,
     "metadata": {},
     "output_type": "execute_result"
    }
   ],
   "source": [
    "sim = np.array([30,60,90,120,150,180,210,240,270,300,330,360,390,420,450,480,510,540,570,600,630,660,690,720,750,780,810,840,870,900])\n",
    "sim"
   ]
  },
  {
   "cell_type": "code",
   "execution_count": 64,
   "metadata": {},
   "outputs": [
    {
     "data": {
      "image/png": "[encoded data removed]",
      "text/plain": [
       "<Figure size 432x288 with 1 Axes>"
      ]
     },
     "metadata": {
      "needs_background": "light"
     },
     "output_type": "display_data"
    }
   ],
   "source": [
    "plt.plot(sim , test_1_results, label = \"paper test\")\n",
    "\n",
    "plt.plot(sim , test_2_results, label = \"t test\")\n",
    "plt.title('Comparison Study')\n",
    "plt.xlabel('sample size')\n",
    "plt.ylabel('Rejection probability given hypothesis is true')\n",
    "plt.legend()\n",
    "plt.show()\n"
   ]
  },
  {
   "cell_type": "code",
   "execution_count": 65,
   "metadata": {},
   "outputs": [
    {
     "data": {
      "image/png": "[encoded data removed]",
      "text/plain": [
       "<Figure size 432x288 with 1 Axes>"
      ]
     },
     "metadata": {
      "needs_background": "light"
     },
     "output_type": "display_data"
    }
   ],
   "source": [
    "plt.scatter(sim , test_2_results)\n",
    "plt.title('Simulation Output for t test')\n",
    "plt.xlabel('sample size')\n",
    "plt.ylabel('Rejection probability given hypothesis is true')\n",
    "plt.show()"
   ]
  },
  {
   "cell_type": "markdown",
   "metadata": {},
   "source": [
    "## Power Comparison against Weibull Alternative:\n"
   ]
  },
  {
   "cell_type": "code",
   "execution_count": 66,
   "metadata": {},
   "outputs": [],
   "source": [
    "from scipy.stats import weibull_min\n",
    "\n",
    "n = 100     # number of samples\n",
    "k = 2.4     # shape\n",
    "lam = 5.5   # scale\n",
    "\n",
    "x = weibull_min.rvs(k, loc=0, scale=lam, size=n)"
   ]
  },
  {
   "cell_type": "code",
   "execution_count": 68,
   "metadata": {},
   "outputs": [
    {
     "data": {
      "text/plain": [
       "array([ 5.45110324,  7.41987636,  4.23656092,  6.53858547,  5.83648406,\n",
       "        4.80976078,  2.07586836,  4.42605926,  3.23522574,  6.95897898,\n",
       "        4.63268797,  5.44531392,  1.88105785,  5.38099273,  5.61007891,\n",
       "        3.42702863,  3.39328897,  5.77437856,  1.66225925,  6.11978667,\n",
       "        6.96713734,  6.28907226,  5.77427806,  7.50179027,  2.00332848,\n",
       "        3.37481654,  5.50217569,  5.54910476,  3.9354995 ,  6.22112073,\n",
       "        1.45816907,  4.33986745,  5.22524489,  3.07790598,  5.1360139 ,\n",
       "        3.62344813,  9.19959553,  1.10380037,  2.8390475 ,  8.71570694,\n",
       "        8.92192856,  4.77384686,  4.2917017 , 10.6596857 ,  3.59188293,\n",
       "        1.58250629,  5.73578707,  7.40150023,  9.30091453,  3.14443346,\n",
       "        7.35332523,  5.79072308,  7.99733387,  4.28356316,  6.50089872,\n",
       "        4.03410546,  4.48432211,  4.09546453,  4.66648256,  5.5752972 ,\n",
       "        3.29744804,  7.97377671,  3.47985501,  6.25199568,  5.33089836,\n",
       "        6.0301852 ,  3.68205874,  4.61247275,  5.37658   ,  3.30877629,\n",
       "        6.94272327,  6.82589809,  3.97525223,  6.6153315 ,  1.27890293,\n",
       "        3.1106678 ,  3.22713554,  5.81164143, 10.70971157,  5.25756257,\n",
       "        1.46154005,  6.29711285,  4.88682765,  4.20598848,  4.41637257,\n",
       "        7.50737698,  5.14688682,  3.3414494 , 10.4138281 ,  6.91561175,\n",
       "        8.85413865,  9.46374384,  8.67140013,  3.25452117,  6.46561747,\n",
       "        4.64829008,  5.69575051,  4.5935071 ,  4.28066929,  5.41360372])"
      ]
     },
     "execution_count": 68,
     "metadata": {},
     "output_type": "execute_result"
    }
   ],
   "source": [
    "x"
   ]
  },
  {
   "cell_type": "code",
   "execution_count": 4,
   "metadata": {},
   "outputs": [],
   "source": [
    "def Test3(r,n,l,k):\n",
    "    m=0\n",
    "    for j in range(1,k):\n",
    "        x = np.random.weibull(l,n)\n",
    "        z=0\n",
    "        q=0\n",
    "        for i in range(1,n):\n",
    "            z=z+ exp(-0.5*((x[i]*(n**0.30))**2))\n",
    "            q=q+(x[i]**r)\n",
    "        z=z/((2*3.14*n)**0.5)\n",
    "        q=q/n\n",
    "        y= np.mean(x)\n",
    "        g= math.gamma(r+1)\n",
    "        s = (g/((y*z)**r))- (q/(y**r))\n",
    "        zeta = (s/r*g)*(((2/y)*((n*3.14)**0.5))**0.5)\n",
    "        if zeta>1.64:\n",
    "            m=m+1\n",
    "        else:\n",
    "            m=m\n",
    "    m=(m/k)*100\n",
    "    return(m)\n",
    "    "
   ]
  },
  {
   "cell_type": "code",
   "execution_count": 80,
   "metadata": {},
   "outputs": [
    {
     "data": {
      "text/plain": [
       "99.99"
      ]
     },
     "execution_count": 80,
     "metadata": {},
     "output_type": "execute_result"
    }
   ],
   "source": [
    "Test3(4,70,1.5,10000)"
   ]
  },
  {
   "cell_type": "code",
   "execution_count": 5,
   "metadata": {},
   "outputs": [],
   "source": [
    "def Test4(r,a,b,l,k):\n",
    "    m = 0\n",
    "    for j in range(1,k):\n",
    "        x = np.random.weibull(l,a)\n",
    "        z=0\n",
    "        q=0\n",
    "        for i in range(1,a):\n",
    "            z=z+ exp(-0.5*((x[i]*(a**0.30))**2))\n",
    "            q=q+(x[i]**r)\n",
    "        z=z/((2*3.14*a)**0.5)\n",
    "        q=q/a\n",
    "        mean_1= np.mean(x)\n",
    "        g= math.gamma(r+1)\n",
    "        s_1 = (g/((mean_1*z)**r))- (q/(mean_1**r))\n",
    "        y = np.random.weibull(l,b)\n",
    "        z = 0\n",
    "        q = 0\n",
    "        for i in range(1,b):\n",
    "            z=z+ exp(-0.5*((y[i]*(b**0.30))**2))\n",
    "            q=q+(y[i]**r)\n",
    "        z=z/((2*3.14*b)**0.5)\n",
    "        q=q/b\n",
    "        mean_2= np.mean(y)\n",
    "        g= math.gamma(r+1)\n",
    "        s_2 = (g/((mean_2*z)**r))- (q/(mean_2**r))\n",
    "        \n",
    "        c= ((a/b)**(1.3/2))\n",
    "        T = c*(s_1/s_2)\n",
    "        if(T>6.314):\n",
    "            m=m+1\n",
    "        else:\n",
    "            m=m\n",
    "    \n",
    "    return(m)\n",
    "    "
   ]
  },
  {
   "cell_type": "code",
   "execution_count": 9,
   "metadata": {},
   "outputs": [
    {
     "data": {
      "text/plain": [
       "914"
      ]
     },
     "execution_count": 9,
     "metadata": {},
     "output_type": "execute_result"
    }
   ],
   "source": [
    "Test4(4,100,50,7,1000)"
   ]
  }
 ],
 "metadata": {
  "kernelspec": {
   "display_name": "Python 3",
   "language": "python",
   "name": "python3"
  },
  "language_info": {
   "codemirror_mode": {
    "name": "ipython",
    "version": 3
   },
   "file_extension": ".py",
   "mimetype": "text/x-python",
   "name": "python",
   "nbconvert_exporter": "python",
   "pygments_lexer": "ipython3",
   "version": "3.7.3"
  }
 },
 "nbformat": 4,
 "nbformat_minor": 2
}
