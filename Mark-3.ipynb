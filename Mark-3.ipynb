{
 "cells": [
  {
   "cell_type": "markdown",
   "metadata": {},
   "source": [
    "# Simulation Using Python"
   ]
  },
  {
   "cell_type": "markdown",
   "metadata": {},
   "source": [
    "#### Simulating Common random variables"
   ]
  },
  {
   "cell_type": "code",
   "execution_count": 11,
   "metadata": {},
   "outputs": [],
   "source": [
    "import numpy as np"
   ]
  },
  {
   "cell_type": "code",
   "execution_count": 2,
   "metadata": {},
   "outputs": [
    {
     "data": {
      "text/plain": [
       "array([ 5.00950084,  0.84871843, -1.33556573,  6.44773111, -0.22783885,\n",
       "        2.81539896,  3.42689707,  4.58887558, -3.03539904, -0.92779961])"
      ]
     },
     "execution_count": 2,
     "metadata": {},
     "output_type": "execute_result"
    }
   ],
   "source": [
    "np.random.normal(2,3,10)"
   ]
  },
  {
   "cell_type": "code",
   "execution_count": 99,
   "metadata": {},
   "outputs": [
    {
     "data": {
      "text/plain": [
       "array([18.28792924, 15.50185191, 31.13163371, 26.63197311, 16.03137729,\n",
       "       40.35371817, 22.44164593,  3.50960938, 18.95547817, 23.09263278])"
      ]
     },
     "execution_count": 99,
     "metadata": {},
     "output_type": "execute_result"
    }
   ],
   "source": [
    "np.random.gamma(3,7.5,10)"
   ]
  },
  {
   "cell_type": "code",
   "execution_count": 100,
   "metadata": {},
   "outputs": [
    {
     "data": {
      "text/plain": [
       "array([1, 1, 3, 2, 1, 1, 2, 1, 0, 0])"
      ]
     },
     "execution_count": 100,
     "metadata": {},
     "output_type": "execute_result"
    }
   ],
   "source": [
    "np.random.poisson(2,10)"
   ]
  },
  {
   "cell_type": "code",
   "execution_count": 12,
   "metadata": {},
   "outputs": [
    {
     "data": {
      "text/plain": [
       "array([ 0.73082582, 11.67049746, 14.77434971, 13.40109439,  7.91540556,\n",
       "        6.30677641,  3.45169798,  0.7046641 ,  3.77342293,  4.26136081])"
      ]
     },
     "execution_count": 12,
     "metadata": {},
     "output_type": "execute_result"
    }
   ],
   "source": [
    "np.random.exponential(5,10)"
   ]
  },
  {
   "cell_type": "code",
   "execution_count": 14,
   "metadata": {},
   "outputs": [
    {
     "data": {
      "text/plain": [
       "array([1, 1, 1, 3, 3, 0, 2, 4, 3, 2])"
      ]
     },
     "execution_count": 14,
     "metadata": {},
     "output_type": "execute_result"
    }
   ],
   "source": [
    "np.random.binomial(10,.2,10)"
   ]
  },
  {
   "cell_type": "code",
   "execution_count": 16,
   "metadata": {},
   "outputs": [
    {
     "data": {
      "text/plain": [
       "array([ 0.76914307,  0.07651425, -0.85979289, -0.76178153, -0.38244429,\n",
       "       -0.1970559 , -0.74700505,  0.05662545, -0.74860776, -0.91634983])"
      ]
     },
     "execution_count": 16,
     "metadata": {},
     "output_type": "execute_result"
    }
   ],
   "source": [
    "np.random.uniform(-1,1,10)"
   ]
  },
  {
   "cell_type": "markdown",
   "metadata": {},
   "source": [
    "## Simulation Problem-1\n",
    "\n",
    "How often does a better team wins? we will use simulation to find out in a 7 match stretch what are the probabilities for the better team winning"
   ]
  },
  {
   "cell_type": "code",
   "execution_count": 101,
   "metadata": {},
   "outputs": [
    {
     "data": {
      "text/plain": [
       "array([0.   , 0.001, 0.002, 0.003, 0.004, 0.005, 0.006, 0.007, 0.008,\n",
       "       0.009, 0.01 , 0.011, 0.012, 0.013, 0.014, 0.015, 0.016, 0.017,\n",
       "       0.018, 0.019, 0.02 , 0.021, 0.022, 0.023, 0.024, 0.025, 0.026,\n",
       "       0.027, 0.028, 0.029, 0.03 , 0.031, 0.032, 0.033, 0.034, 0.035,\n",
       "       0.036, 0.037, 0.038, 0.039, 0.04 , 0.041, 0.042, 0.043, 0.044,\n",
       "       0.045, 0.046, 0.047, 0.048, 0.049, 0.05 , 0.051, 0.052, 0.053,\n",
       "       0.054, 0.055, 0.056, 0.057, 0.058, 0.059, 0.06 , 0.061, 0.062,\n",
       "       0.063, 0.064, 0.065, 0.066, 0.067, 0.068, 0.069, 0.07 , 0.071,\n",
       "       0.072, 0.073, 0.074, 0.075, 0.076, 0.077, 0.078, 0.079, 0.08 ,\n",
       "       0.081, 0.082, 0.083, 0.084, 0.085, 0.086, 0.087, 0.088, 0.089,\n",
       "       0.09 , 0.091, 0.092, 0.093, 0.094, 0.095, 0.096, 0.097, 0.098,\n",
       "       0.099, 0.1  , 0.101, 0.102, 0.103, 0.104, 0.105, 0.106, 0.107,\n",
       "       0.108, 0.109, 0.11 , 0.111, 0.112, 0.113, 0.114, 0.115, 0.116,\n",
       "       0.117, 0.118, 0.119, 0.12 , 0.121, 0.122, 0.123, 0.124, 0.125,\n",
       "       0.126, 0.127, 0.128, 0.129, 0.13 , 0.131, 0.132, 0.133, 0.134,\n",
       "       0.135, 0.136, 0.137, 0.138, 0.139, 0.14 , 0.141, 0.142, 0.143,\n",
       "       0.144, 0.145, 0.146, 0.147, 0.148, 0.149, 0.15 , 0.151, 0.152,\n",
       "       0.153, 0.154, 0.155, 0.156, 0.157, 0.158, 0.159, 0.16 , 0.161,\n",
       "       0.162, 0.163, 0.164, 0.165, 0.166, 0.167, 0.168, 0.169, 0.17 ,\n",
       "       0.171, 0.172, 0.173, 0.174, 0.175, 0.176, 0.177, 0.178, 0.179,\n",
       "       0.18 , 0.181, 0.182, 0.183, 0.184, 0.185, 0.186, 0.187, 0.188,\n",
       "       0.189, 0.19 , 0.191, 0.192, 0.193, 0.194, 0.195, 0.196, 0.197,\n",
       "       0.198, 0.199, 0.2  , 0.201, 0.202, 0.203, 0.204, 0.205, 0.206,\n",
       "       0.207, 0.208, 0.209, 0.21 , 0.211, 0.212, 0.213, 0.214, 0.215,\n",
       "       0.216, 0.217, 0.218, 0.219, 0.22 , 0.221, 0.222, 0.223, 0.224,\n",
       "       0.225, 0.226, 0.227, 0.228, 0.229, 0.23 , 0.231, 0.232, 0.233,\n",
       "       0.234, 0.235, 0.236, 0.237, 0.238, 0.239, 0.24 , 0.241, 0.242,\n",
       "       0.243, 0.244, 0.245, 0.246, 0.247, 0.248, 0.249, 0.25 , 0.251,\n",
       "       0.252, 0.253, 0.254, 0.255, 0.256, 0.257, 0.258, 0.259, 0.26 ,\n",
       "       0.261, 0.262, 0.263, 0.264, 0.265, 0.266, 0.267, 0.268, 0.269,\n",
       "       0.27 , 0.271, 0.272, 0.273, 0.274, 0.275, 0.276, 0.277, 0.278,\n",
       "       0.279, 0.28 , 0.281, 0.282, 0.283, 0.284, 0.285, 0.286, 0.287,\n",
       "       0.288, 0.289, 0.29 , 0.291, 0.292, 0.293, 0.294, 0.295, 0.296,\n",
       "       0.297, 0.298, 0.299, 0.3  , 0.301, 0.302, 0.303, 0.304, 0.305,\n",
       "       0.306, 0.307, 0.308, 0.309, 0.31 , 0.311, 0.312, 0.313, 0.314,\n",
       "       0.315, 0.316, 0.317, 0.318, 0.319, 0.32 , 0.321, 0.322, 0.323,\n",
       "       0.324, 0.325, 0.326, 0.327, 0.328, 0.329, 0.33 , 0.331, 0.332,\n",
       "       0.333, 0.334, 0.335, 0.336, 0.337, 0.338, 0.339, 0.34 , 0.341,\n",
       "       0.342, 0.343, 0.344, 0.345, 0.346, 0.347, 0.348, 0.349, 0.35 ,\n",
       "       0.351, 0.352, 0.353, 0.354, 0.355, 0.356, 0.357, 0.358, 0.359,\n",
       "       0.36 , 0.361, 0.362, 0.363, 0.364, 0.365, 0.366, 0.367, 0.368,\n",
       "       0.369, 0.37 , 0.371, 0.372, 0.373, 0.374, 0.375, 0.376, 0.377,\n",
       "       0.378, 0.379, 0.38 , 0.381, 0.382, 0.383, 0.384, 0.385, 0.386,\n",
       "       0.387, 0.388, 0.389, 0.39 , 0.391, 0.392, 0.393, 0.394, 0.395,\n",
       "       0.396, 0.397, 0.398, 0.399, 0.4  , 0.401, 0.402, 0.403, 0.404,\n",
       "       0.405, 0.406, 0.407, 0.408, 0.409, 0.41 , 0.411, 0.412, 0.413,\n",
       "       0.414, 0.415, 0.416, 0.417, 0.418, 0.419, 0.42 , 0.421, 0.422,\n",
       "       0.423, 0.424, 0.425, 0.426, 0.427, 0.428, 0.429, 0.43 , 0.431,\n",
       "       0.432, 0.433, 0.434, 0.435, 0.436, 0.437, 0.438, 0.439, 0.44 ,\n",
       "       0.441, 0.442, 0.443, 0.444, 0.445, 0.446, 0.447, 0.448, 0.449,\n",
       "       0.45 , 0.451, 0.452, 0.453, 0.454, 0.455, 0.456, 0.457, 0.458,\n",
       "       0.459, 0.46 , 0.461, 0.462, 0.463, 0.464, 0.465, 0.466, 0.467,\n",
       "       0.468, 0.469, 0.47 , 0.471, 0.472, 0.473, 0.474, 0.475, 0.476,\n",
       "       0.477, 0.478, 0.479, 0.48 , 0.481, 0.482, 0.483, 0.484, 0.485,\n",
       "       0.486, 0.487, 0.488, 0.489, 0.49 , 0.491, 0.492, 0.493, 0.494,\n",
       "       0.495, 0.496, 0.497, 0.498, 0.499, 0.5  , 0.501, 0.502, 0.503,\n",
       "       0.504, 0.505, 0.506, 0.507, 0.508, 0.509, 0.51 , 0.511, 0.512,\n",
       "       0.513, 0.514, 0.515, 0.516, 0.517, 0.518, 0.519, 0.52 , 0.521,\n",
       "       0.522, 0.523, 0.524, 0.525, 0.526, 0.527, 0.528, 0.529, 0.53 ,\n",
       "       0.531, 0.532, 0.533, 0.534, 0.535, 0.536, 0.537, 0.538, 0.539,\n",
       "       0.54 , 0.541, 0.542, 0.543, 0.544, 0.545, 0.546, 0.547, 0.548,\n",
       "       0.549, 0.55 , 0.551, 0.552, 0.553, 0.554, 0.555, 0.556, 0.557,\n",
       "       0.558, 0.559, 0.56 , 0.561, 0.562, 0.563, 0.564, 0.565, 0.566,\n",
       "       0.567, 0.568, 0.569, 0.57 , 0.571, 0.572, 0.573, 0.574, 0.575,\n",
       "       0.576, 0.577, 0.578, 0.579, 0.58 , 0.581, 0.582, 0.583, 0.584,\n",
       "       0.585, 0.586, 0.587, 0.588, 0.589, 0.59 , 0.591, 0.592, 0.593,\n",
       "       0.594, 0.595, 0.596, 0.597, 0.598, 0.599, 0.6  , 0.601, 0.602,\n",
       "       0.603, 0.604, 0.605, 0.606, 0.607, 0.608, 0.609, 0.61 , 0.611,\n",
       "       0.612, 0.613, 0.614, 0.615, 0.616, 0.617, 0.618, 0.619, 0.62 ,\n",
       "       0.621, 0.622, 0.623, 0.624, 0.625, 0.626, 0.627, 0.628, 0.629,\n",
       "       0.63 , 0.631, 0.632, 0.633, 0.634, 0.635, 0.636, 0.637, 0.638,\n",
       "       0.639, 0.64 , 0.641, 0.642, 0.643, 0.644, 0.645, 0.646, 0.647,\n",
       "       0.648, 0.649, 0.65 , 0.651, 0.652, 0.653, 0.654, 0.655, 0.656,\n",
       "       0.657, 0.658, 0.659, 0.66 , 0.661, 0.662, 0.663, 0.664, 0.665,\n",
       "       0.666, 0.667, 0.668, 0.669, 0.67 , 0.671, 0.672, 0.673, 0.674,\n",
       "       0.675, 0.676, 0.677, 0.678, 0.679, 0.68 , 0.681, 0.682, 0.683,\n",
       "       0.684, 0.685, 0.686, 0.687, 0.688, 0.689, 0.69 , 0.691, 0.692,\n",
       "       0.693, 0.694, 0.695, 0.696, 0.697, 0.698, 0.699, 0.7  , 0.701,\n",
       "       0.702, 0.703, 0.704, 0.705, 0.706, 0.707, 0.708, 0.709, 0.71 ,\n",
       "       0.711, 0.712, 0.713, 0.714, 0.715, 0.716, 0.717, 0.718, 0.719,\n",
       "       0.72 , 0.721, 0.722, 0.723, 0.724, 0.725, 0.726, 0.727, 0.728,\n",
       "       0.729, 0.73 , 0.731, 0.732, 0.733, 0.734, 0.735, 0.736, 0.737,\n",
       "       0.738, 0.739, 0.74 , 0.741, 0.742, 0.743, 0.744, 0.745, 0.746,\n",
       "       0.747, 0.748, 0.749, 0.75 , 0.751, 0.752, 0.753, 0.754, 0.755,\n",
       "       0.756, 0.757, 0.758, 0.759, 0.76 , 0.761, 0.762, 0.763, 0.764,\n",
       "       0.765, 0.766, 0.767, 0.768, 0.769, 0.77 , 0.771, 0.772, 0.773,\n",
       "       0.774, 0.775, 0.776, 0.777, 0.778, 0.779, 0.78 , 0.781, 0.782,\n",
       "       0.783, 0.784, 0.785, 0.786, 0.787, 0.788, 0.789, 0.79 , 0.791,\n",
       "       0.792, 0.793, 0.794, 0.795, 0.796, 0.797, 0.798, 0.799, 0.8  ,\n",
       "       0.801, 0.802, 0.803, 0.804, 0.805, 0.806, 0.807, 0.808, 0.809,\n",
       "       0.81 , 0.811, 0.812, 0.813, 0.814, 0.815, 0.816, 0.817, 0.818,\n",
       "       0.819, 0.82 , 0.821, 0.822, 0.823, 0.824, 0.825, 0.826, 0.827,\n",
       "       0.828, 0.829, 0.83 , 0.831, 0.832, 0.833, 0.834, 0.835, 0.836,\n",
       "       0.837, 0.838, 0.839, 0.84 , 0.841, 0.842, 0.843, 0.844, 0.845,\n",
       "       0.846, 0.847, 0.848, 0.849, 0.85 , 0.851, 0.852, 0.853, 0.854,\n",
       "       0.855, 0.856, 0.857, 0.858, 0.859, 0.86 , 0.861, 0.862, 0.863,\n",
       "       0.864, 0.865, 0.866, 0.867, 0.868, 0.869, 0.87 , 0.871, 0.872,\n",
       "       0.873, 0.874, 0.875, 0.876, 0.877, 0.878, 0.879, 0.88 , 0.881,\n",
       "       0.882, 0.883, 0.884, 0.885, 0.886, 0.887, 0.888, 0.889, 0.89 ,\n",
       "       0.891, 0.892, 0.893, 0.894, 0.895, 0.896, 0.897, 0.898, 0.899,\n",
       "       0.9  , 0.901, 0.902, 0.903, 0.904, 0.905, 0.906, 0.907, 0.908,\n",
       "       0.909, 0.91 , 0.911, 0.912, 0.913, 0.914, 0.915, 0.916, 0.917,\n",
       "       0.918, 0.919, 0.92 , 0.921, 0.922, 0.923, 0.924, 0.925, 0.926,\n",
       "       0.927, 0.928, 0.929, 0.93 , 0.931, 0.932, 0.933, 0.934, 0.935,\n",
       "       0.936, 0.937, 0.938, 0.939, 0.94 , 0.941, 0.942, 0.943, 0.944,\n",
       "       0.945, 0.946, 0.947, 0.948, 0.949, 0.95 , 0.951, 0.952, 0.953,\n",
       "       0.954, 0.955, 0.956, 0.957, 0.958, 0.959, 0.96 , 0.961, 0.962,\n",
       "       0.963, 0.964, 0.965, 0.966, 0.967, 0.968, 0.969, 0.97 , 0.971,\n",
       "       0.972, 0.973, 0.974, 0.975, 0.976, 0.977, 0.978, 0.979, 0.98 ,\n",
       "       0.981, 0.982, 0.983, 0.984, 0.985, 0.986, 0.987, 0.988, 0.989,\n",
       "       0.99 , 0.991, 0.992, 0.993, 0.994, 0.995, 0.996, 0.997, 0.998,\n",
       "       0.999])"
      ]
     },
     "execution_count": 101,
     "metadata": {},
     "output_type": "execute_result"
    }
   ],
   "source": [
    "prob = np.array(range(1000))\n",
    "prob = prob/1000\n",
    "prob"
   ]
  },
  {
   "cell_type": "code",
   "execution_count": 102,
   "metadata": {},
   "outputs": [
    {
     "data": {
      "text/plain": [
       "0.0"
      ]
     },
     "execution_count": 102,
     "metadata": {},
     "output_type": "execute_result"
    }
   ],
   "source": [
    "winning_prob = np.zeros(1000)\n",
    "winning_prob[1]"
   ]
  },
  {
   "cell_type": "code",
   "execution_count": 104,
   "metadata": {},
   "outputs": [
    {
     "data": {
      "text/plain": [
       "array([0.   , 0.   , 0.   , 0.   , 0.   , 0.   , 0.   , 0.   , 0.   ,\n",
       "       0.   , 0.   , 0.   , 0.   , 0.   , 0.   , 0.   , 0.   , 0.   ,\n",
       "       0.   , 0.   , 0.   , 0.   , 0.   , 0.   , 0.   , 0.   , 0.   ,\n",
       "       0.   , 0.   , 0.   , 0.   , 0.   , 0.   , 0.   , 0.   , 0.   ,\n",
       "       0.   , 0.   , 0.   , 0.   , 0.   , 0.   , 0.   , 0.   , 0.   ,\n",
       "       0.   , 0.001, 0.   , 0.   , 0.   , 0.002, 0.   , 0.   , 0.   ,\n",
       "       0.   , 0.001, 0.   , 0.001, 0.001, 0.   , 0.   , 0.001, 0.002,\n",
       "       0.   , 0.   , 0.002, 0.   , 0.003, 0.002, 0.   , 0.   , 0.001,\n",
       "       0.   , 0.003, 0.001, 0.   , 0.001, 0.   , 0.001, 0.   , 0.001,\n",
       "       0.002, 0.003, 0.001, 0.004, 0.001, 0.002, 0.003, 0.001, 0.002,\n",
       "       0.001, 0.004, 0.003, 0.001, 0.004, 0.003, 0.002, 0.004, 0.003,\n",
       "       0.005, 0.003, 0.002, 0.   , 0.004, 0.003, 0.002, 0.003, 0.002,\n",
       "       0.005, 0.005, 0.003, 0.001, 0.003, 0.005, 0.005, 0.008, 0.006,\n",
       "       0.006, 0.006, 0.006, 0.004, 0.005, 0.007, 0.005, 0.007, 0.004,\n",
       "       0.004, 0.004, 0.009, 0.005, 0.011, 0.009, 0.007, 0.009, 0.009,\n",
       "       0.009, 0.012, 0.006, 0.01 , 0.004, 0.01 , 0.016, 0.012, 0.009,\n",
       "       0.01 , 0.01 , 0.013, 0.013, 0.011, 0.011, 0.008, 0.014, 0.017,\n",
       "       0.013, 0.021, 0.017, 0.015, 0.015, 0.017, 0.015, 0.016, 0.015,\n",
       "       0.017, 0.015, 0.019, 0.018, 0.018, 0.018, 0.023, 0.014, 0.013,\n",
       "       0.016, 0.023, 0.025, 0.019, 0.031, 0.019, 0.027, 0.017, 0.023,\n",
       "       0.019, 0.023, 0.027, 0.03 , 0.018, 0.015, 0.033, 0.026, 0.022,\n",
       "       0.022, 0.025, 0.033, 0.025, 0.033, 0.029, 0.029, 0.034, 0.029,\n",
       "       0.035, 0.039, 0.03 , 0.039, 0.041, 0.036, 0.047, 0.042, 0.036,\n",
       "       0.034, 0.036, 0.042, 0.04 , 0.043, 0.032, 0.032, 0.039, 0.05 ,\n",
       "       0.039, 0.046, 0.048, 0.048, 0.047, 0.043, 0.048, 0.051, 0.051,\n",
       "       0.058, 0.05 , 0.049, 0.049, 0.05 , 0.051, 0.057, 0.071, 0.057,\n",
       "       0.054, 0.049, 0.056, 0.062, 0.061, 0.063, 0.066, 0.054, 0.051,\n",
       "       0.056, 0.076, 0.064, 0.064, 0.062, 0.052, 0.077, 0.075, 0.077,\n",
       "       0.063, 0.068, 0.064, 0.064, 0.084, 0.088, 0.095, 0.086, 0.086,\n",
       "       0.071, 0.091, 0.075, 0.067, 0.089, 0.094, 0.098, 0.084, 0.105,\n",
       "       0.106, 0.093, 0.094, 0.098, 0.099, 0.1  , 0.088, 0.087, 0.102,\n",
       "       0.105, 0.107, 0.112, 0.09 , 0.121, 0.114, 0.109, 0.108, 0.117,\n",
       "       0.106, 0.111, 0.141, 0.112, 0.123, 0.108, 0.12 , 0.114, 0.137,\n",
       "       0.12 , 0.128, 0.119, 0.14 , 0.124, 0.14 , 0.129, 0.138, 0.132,\n",
       "       0.117, 0.127, 0.167, 0.155, 0.151, 0.142, 0.163, 0.142, 0.154,\n",
       "       0.14 , 0.14 , 0.146, 0.155, 0.136, 0.142, 0.152, 0.145, 0.152,\n",
       "       0.164, 0.153, 0.165, 0.165, 0.173, 0.172, 0.159, 0.172, 0.17 ,\n",
       "       0.161, 0.176, 0.194, 0.166, 0.178, 0.188, 0.173, 0.171, 0.174,\n",
       "       0.167, 0.187, 0.169, 0.182, 0.196, 0.212, 0.158, 0.191, 0.216,\n",
       "       0.191, 0.209, 0.213, 0.225, 0.206, 0.205, 0.213, 0.219, 0.19 ,\n",
       "       0.202, 0.217, 0.24 , 0.218, 0.247, 0.213, 0.221, 0.228, 0.245,\n",
       "       0.221, 0.214, 0.243, 0.232, 0.233, 0.249, 0.259, 0.235, 0.24 ,\n",
       "       0.233, 0.252, 0.252, 0.258, 0.252, 0.252, 0.27 , 0.281, 0.237,\n",
       "       0.276, 0.297, 0.271, 0.282, 0.287, 0.26 , 0.265, 0.287, 0.27 ,\n",
       "       0.29 , 0.302, 0.285, 0.268, 0.295, 0.296, 0.284, 0.311, 0.292,\n",
       "       0.325, 0.302, 0.304, 0.291, 0.32 , 0.31 , 0.282, 0.324, 0.303,\n",
       "       0.319, 0.317, 0.349, 0.314, 0.322, 0.334, 0.339, 0.341, 0.357,\n",
       "       0.342, 0.337, 0.344, 0.333, 0.341, 0.35 , 0.368, 0.36 , 0.344,\n",
       "       0.347, 0.337, 0.393, 0.373, 0.35 , 0.364, 0.363, 0.369, 0.366,\n",
       "       0.37 , 0.377, 0.386, 0.388, 0.39 , 0.411, 0.382, 0.407, 0.395,\n",
       "       0.404, 0.382, 0.398, 0.396, 0.398, 0.356, 0.406, 0.406, 0.413,\n",
       "       0.416, 0.379, 0.427, 0.428, 0.403, 0.435, 0.421, 0.442, 0.438,\n",
       "       0.436, 0.454, 0.426, 0.427, 0.419, 0.451, 0.457, 0.454, 0.437,\n",
       "       0.455, 0.448, 0.482, 0.449, 0.496, 0.484, 0.462, 0.462, 0.467,\n",
       "       0.468, 0.489, 0.476, 0.497, 0.475, 0.476, 0.483, 0.484, 0.496,\n",
       "       0.491, 0.493, 0.481, 0.503, 0.502, 0.508, 0.504, 0.455, 0.498,\n",
       "       0.514, 0.504, 0.496, 0.526, 0.539, 0.534, 0.53 , 0.503, 0.531,\n",
       "       0.531, 0.54 , 0.545, 0.522, 0.523, 0.56 , 0.533, 0.577, 0.534,\n",
       "       0.552, 0.545, 0.533, 0.56 , 0.55 , 0.566, 0.555, 0.557, 0.566,\n",
       "       0.57 , 0.562, 0.578, 0.565, 0.571, 0.569, 0.599, 0.595, 0.584,\n",
       "       0.599, 0.582, 0.602, 0.585, 0.611, 0.585, 0.628, 0.626, 0.63 ,\n",
       "       0.593, 0.588, 0.631, 0.6  , 0.629, 0.645, 0.645, 0.615, 0.645,\n",
       "       0.602, 0.649, 0.664, 0.636, 0.633, 0.647, 0.605, 0.618, 0.639,\n",
       "       0.657, 0.6  , 0.654, 0.628, 0.662, 0.662, 0.688, 0.624, 0.652,\n",
       "       0.67 , 0.66 , 0.678, 0.67 , 0.659, 0.659, 0.676, 0.691, 0.689,\n",
       "       0.681, 0.67 , 0.698, 0.684, 0.673, 0.684, 0.725, 0.681, 0.683,\n",
       "       0.689, 0.684, 0.719, 0.739, 0.702, 0.715, 0.702, 0.703, 0.701,\n",
       "       0.694, 0.74 , 0.72 , 0.739, 0.729, 0.703, 0.726, 0.75 , 0.75 ,\n",
       "       0.718, 0.746, 0.766, 0.735, 0.737, 0.744, 0.732, 0.735, 0.77 ,\n",
       "       0.749, 0.757, 0.773, 0.75 , 0.757, 0.77 , 0.768, 0.76 , 0.743,\n",
       "       0.771, 0.775, 0.779, 0.766, 0.752, 0.787, 0.78 , 0.785, 0.789,\n",
       "       0.782, 0.778, 0.786, 0.763, 0.776, 0.777, 0.809, 0.79 , 0.795,\n",
       "       0.807, 0.786, 0.828, 0.809, 0.818, 0.798, 0.812, 0.809, 0.793,\n",
       "       0.79 , 0.835, 0.81 , 0.823, 0.83 , 0.816, 0.823, 0.825, 0.815,\n",
       "       0.842, 0.849, 0.801, 0.827, 0.824, 0.847, 0.834, 0.835, 0.837,\n",
       "       0.826, 0.814, 0.847, 0.825, 0.848, 0.832, 0.831, 0.847, 0.839,\n",
       "       0.849, 0.843, 0.85 , 0.856, 0.844, 0.847, 0.859, 0.855, 0.868,\n",
       "       0.843, 0.882, 0.864, 0.866, 0.857, 0.872, 0.863, 0.871, 0.864,\n",
       "       0.878, 0.877, 0.877, 0.87 , 0.903, 0.869, 0.857, 0.893, 0.886,\n",
       "       0.887, 0.89 , 0.886, 0.891, 0.893, 0.89 , 0.891, 0.907, 0.908,\n",
       "       0.892, 0.882, 0.905, 0.898, 0.892, 0.923, 0.898, 0.905, 0.92 ,\n",
       "       0.901, 0.912, 0.908, 0.906, 0.909, 0.91 , 0.914, 0.91 , 0.908,\n",
       "       0.906, 0.919, 0.929, 0.92 , 0.918, 0.915, 0.925, 0.914, 0.923,\n",
       "       0.918, 0.927, 0.917, 0.921, 0.937, 0.918, 0.94 , 0.942, 0.946,\n",
       "       0.935, 0.944, 0.923, 0.92 , 0.954, 0.941, 0.935, 0.948, 0.947,\n",
       "       0.935, 0.926, 0.945, 0.944, 0.94 , 0.953, 0.945, 0.938, 0.95 ,\n",
       "       0.947, 0.95 , 0.95 , 0.955, 0.944, 0.946, 0.95 , 0.957, 0.952,\n",
       "       0.951, 0.961, 0.954, 0.964, 0.954, 0.972, 0.959, 0.952, 0.962,\n",
       "       0.965, 0.957, 0.956, 0.971, 0.966, 0.961, 0.968, 0.962, 0.97 ,\n",
       "       0.97 , 0.968, 0.969, 0.962, 0.973, 0.969, 0.964, 0.974, 0.97 ,\n",
       "       0.979, 0.974, 0.968, 0.976, 0.969, 0.979, 0.966, 0.969, 0.976,\n",
       "       0.973, 0.971, 0.977, 0.97 , 0.978, 0.979, 0.974, 0.975, 0.981,\n",
       "       0.984, 0.983, 0.979, 0.982, 0.978, 0.982, 0.977, 0.992, 0.991,\n",
       "       0.986, 0.981, 0.987, 0.978, 0.981, 0.986, 0.991, 0.987, 0.986,\n",
       "       0.992, 0.989, 0.991, 0.988, 0.985, 0.987, 0.989, 0.991, 0.986,\n",
       "       0.987, 0.988, 0.993, 0.984, 0.991, 0.992, 0.988, 0.996, 0.987,\n",
       "       0.987, 0.989, 0.994, 0.991, 0.991, 0.993, 0.995, 0.99 , 0.995,\n",
       "       0.995, 0.994, 0.992, 0.996, 0.995, 0.998, 0.995, 0.996, 0.992,\n",
       "       0.995, 0.995, 0.996, 0.993, 0.994, 0.991, 0.998, 0.997, 0.996,\n",
       "       0.996, 0.993, 0.992, 0.993, 0.993, 0.998, 0.998, 0.994, 0.995,\n",
       "       0.997, 0.993, 0.994, 0.999, 0.999, 0.997, 0.999, 0.994, 0.997,\n",
       "       0.996, 0.997, 0.999, 0.996, 0.999, 0.999, 0.998, 0.997, 0.997,\n",
       "       0.995, 0.998, 0.997, 0.996, 0.997, 0.997, 0.998, 0.999, 0.999,\n",
       "       0.996, 0.998, 0.999, 0.997, 0.997, 0.999, 0.999, 0.999, 0.999,\n",
       "       0.999, 0.999, 0.998, 0.999, 0.999, 0.999, 0.999, 0.999, 0.999,\n",
       "       0.999, 0.999, 0.999, 0.999, 0.999, 0.999, 0.999, 0.998, 0.999,\n",
       "       0.999, 0.998, 0.999, 0.999, 0.999, 0.999, 0.999, 0.999, 0.999,\n",
       "       0.999, 0.999, 0.999, 0.999, 0.999, 0.999, 0.999, 0.999, 0.999,\n",
       "       0.999, 0.999, 0.999, 0.999, 0.999, 0.999, 0.999, 0.999, 0.999,\n",
       "       0.999, 0.999, 0.999, 0.999, 0.999, 0.999, 0.999, 0.999, 0.999,\n",
       "       0.999, 0.999, 0.999, 0.999, 0.999, 0.999, 0.999, 0.999, 0.999,\n",
       "       0.999])"
      ]
     },
     "execution_count": 104,
     "metadata": {},
     "output_type": "execute_result"
    }
   ],
   "source": [
    "for j in range(1,1000):\n",
    "    y=0\n",
    "    p = prob[j]\n",
    "    for i in range(1,1000):\n",
    "        x = np.random.binomial(7,p)\n",
    "        if x>=4:\n",
    "            y=y+1\n",
    "        else:\n",
    "            y=y+0\n",
    "    winning_prob[j]=y/1000\n",
    "winning_prob"
   ]
  },
  {
   "cell_type": "code",
   "execution_count": 108,
   "metadata": {},
   "outputs": [
    {
     "data": {
      "image/png": "[encoded data removed]",
      "text/plain": [
       "<Figure size 432x288 with 1 Axes>"
      ]
     },
     "metadata": {
      "needs_background": "light"
     },
     "output_type": "display_data"
    }
   ],
   "source": [
    "import seaborn as sns\n",
    "import matplotlib.pyplot as plt\n",
    "import pandas as pd\n",
    "\n",
    "plt.scatter(prob, winning_prob)\n",
    "plt.title('How Often a better team wins')\n",
    "plt.xlabel('Probability of winning a game')\n",
    "plt.ylabel('Probability of Winning a tournament')\n",
    "plt.show()\n"
   ]
  },
  {
   "cell_type": "markdown",
   "metadata": {},
   "source": [
    "## Simulation-2:\n",
    "Crap game pass line ,dont pass line prob estimation using monte carlo simulation."
   ]
  },
  {
   "cell_type": "code",
   "execution_count": 146,
   "metadata": {},
   "outputs": [
    {
     "data": {
      "text/plain": [
       "1"
      ]
     },
     "execution_count": 146,
     "metadata": {},
     "output_type": "execute_result"
    }
   ],
   "source": [
    "def continum_rolling(win,loose,p):\n",
    "    x= np.random.binomial(12,p)\n",
    "    if x==win:\n",
    "        z=1\n",
    "    elif x==loose:\n",
    "        z=0\n",
    "    else:\n",
    "        z=continum_rolling(win,loose,p)\n",
    "    return(z)\n",
    "continum_rolling(7,8,.5)"
   ]
  },
  {
   "cell_type": "code",
   "execution_count": 147,
   "metadata": {},
   "outputs": [],
   "source": [
    "def pass_line(numTrials):\n",
    "    for i in range(1,numTrials):\n",
    "        y=0\n",
    "        m = np.random.binomial(12,.5)\n",
    "        if m==7:\n",
    "            y=y+1\n",
    "        elif m==11:\n",
    "            y=y+1\n",
    "        elif m==2:\n",
    "            y=y\n",
    "        elif m==3:\n",
    "            y=y\n",
    "        elif m==12:\n",
    "            y=y\n",
    "        else:\n",
    "            y=y+continum_rolling(m,7,.5)\n",
    "        return(y/numTrials)"
   ]
  },
  {
   "cell_type": "code",
   "execution_count": 4,
   "metadata": {},
   "outputs": [],
   "source": [
    "a = np.zeros(10)\n"
   ]
  },
  {
   "cell_type": "code",
   "execution_count": 8,
   "metadata": {},
   "outputs": [
    {
     "data": {
      "text/plain": [
       "(2, 3)"
      ]
     },
     "execution_count": 8,
     "metadata": {},
     "output_type": "execute_result"
    }
   ],
   "source": [
    "a = np.random.randn(2, 3) # a.shape = (4, 3)\n",
    "b = np.random.randn(2, 1) # b.shape = (3, 2)\n",
    "c = a*b\n",
    "c.shape"
   ]
  },
  {
   "cell_type": "code",
   "execution_count": 12,
   "metadata": {},
   "outputs": [
    {
     "data": {
      "text/plain": [
       "array([[ 0.15589945,  0.44425393, -0.78448712],\n",
       "       [ 0.15750225, -0.02656804,  0.05093535],\n",
       "       [ 0.106481  , -0.15244275, -0.46839979]])"
      ]
     },
     "execution_count": 12,
     "metadata": {},
     "output_type": "execute_result"
    }
   ],
   "source": [
    "a = np.random.randn(3, 3)\n",
    "b = np.random.randn(3, 1)\n",
    "c = a*b\n",
    "c"
   ]
  },
  {
   "cell_type": "code",
   "execution_count": 15,
   "metadata": {},
   "outputs": [
    {
     "data": {
      "text/plain": [
       "(4, 1)"
      ]
     },
     "execution_count": 15,
     "metadata": {},
     "output_type": "execute_result"
    }
   ],
   "source": [
    "A = np.random.randn(4,3)\n",
    "B = np.sum(A, axis = 1, keepdims = True)\n",
    "B.shape"
   ]
  }
 ],
 "metadata": {
  "kernelspec": {
   "display_name": "Python 3",
   "language": "python",
   "name": "python3"
  },
  "language_info": {
   "codemirror_mode": {
    "name": "ipython",
    "version": 3
   },
   "file_extension": ".py",
   "mimetype": "text/x-python",
   "name": "python",
   "nbconvert_exporter": "python",
   "pygments_lexer": "ipython3",
   "version": "3.7.3"
  }
 },
 "nbformat": 4,
 "nbformat_minor": 2
}
